{
  "cells": [
    {
      "cell_type": "markdown",
      "metadata": {
        "id": "d8be15d8-fa8b-4b4f-94d7-39ed53321abd"
      },
      "source": [
        "<p style=\"text-align:center\">\n",
        "    <a href=\"https://skills.network\" target=\"_blank\">\n",
        "    <img src=\"https://cf-courses-data.s3.us.cloud-object-storage.appdomain.cloud/assets/logos/SN_web_lightmode.png\" width=\"200\" alt=\"Skills Network Logo\"  />\n",
        "    </a>\n",
        "</p>\n"
      ]
    },
    {
      "cell_type": "markdown",
      "metadata": {
        "id": "ee706056-1bac-4cb0-820e-b9824ebdb12a"
      },
      "source": [
        "# **Data Wrangling Lab**\n"
      ]
    },
    {
      "cell_type": "markdown",
      "metadata": {
        "id": "51dc38be-5625-4c22-b622-dca1d20a2134"
      },
      "source": [
        "Estimated time needed: **45** minutes\n"
      ]
    },
    {
      "cell_type": "markdown",
      "metadata": {
        "id": "03086336-ee63-4d6a-a1ce-d243006d7057"
      },
      "source": [
        "In this lab, you will perform data wrangling tasks to prepare raw data for analysis. Data wrangling involves cleaning, transforming, and organizing data into a structured format suitable for analysis. This lab focuses on tasks like identifying inconsistencies, encoding categorical variables, and feature transformation.\n"
      ]
    },
    {
      "cell_type": "markdown",
      "metadata": {
        "id": "e223ac3e-4f39-44fa-a3fe-e1e0badf69ac"
      },
      "source": [
        "## Objectives\n"
      ]
    },
    {
      "cell_type": "markdown",
      "metadata": {
        "id": "1cddaf13-6966-4047-aa87-daebb0727a7b"
      },
      "source": [
        "After completing this lab, you will be able to:\n"
      ]
    },
    {
      "cell_type": "markdown",
      "metadata": {
        "id": "b268cb62-6e7c-4d79-be7c-d946a22c6923"
      },
      "source": [
        "- Identify and remove inconsistent data entries.\n",
        "\n",
        "- Encode categorical variables for analysis.\n",
        "\n",
        "- Handle missing values using multiple imputation strategies.\n",
        "\n",
        "- Apply feature scaling and transformation techniques.\n"
      ]
    },
    {
      "cell_type": "markdown",
      "metadata": {
        "id": "2c9b4baf-895a-4feb-9b7e-a15aedf316ad"
      },
      "source": [
        "#### Intsall the required libraries\n"
      ]
    },
    {
      "cell_type": "code",
      "metadata": {
        "colab": {
          "base_uri": "https://localhost:8080/"
        },
        "id": "73057dbb-7947-47cb-a232-3b73ed6a98c3",
        "outputId": "785899ea-940f-4cb2-e639-d1098ff6dd77"
      },
      "outputs": [
        {
          "output_type": "stream",
          "name": "stdout",
          "text": [
            "Requirement already satisfied: pandas in /usr/local/lib/python3.11/dist-packages (2.2.2)\n",
            "Requirement already satisfied: numpy>=1.23.2 in /usr/local/lib/python3.11/dist-packages (from pandas) (2.0.2)\n",
            "Requirement already satisfied: python-dateutil>=2.8.2 in /usr/local/lib/python3.11/dist-packages (from pandas) (2.8.2)\n",
            "Requirement already satisfied: pytz>=2020.1 in /usr/local/lib/python3.11/dist-packages (from pandas) (2025.2)\n",
            "Requirement already satisfied: tzdata>=2022.7 in /usr/local/lib/python3.11/dist-packages (from pandas) (2025.2)\n",
            "Requirement already satisfied: six>=1.5 in /usr/local/lib/python3.11/dist-packages (from python-dateutil>=2.8.2->pandas) (1.17.0)\n",
            "Requirement already satisfied: matplotlib in /usr/local/lib/python3.11/dist-packages (3.10.0)\n",
            "Requirement already satisfied: contourpy>=1.0.1 in /usr/local/lib/python3.11/dist-packages (from matplotlib) (1.3.1)\n",
            "Requirement already satisfied: cycler>=0.10 in /usr/local/lib/python3.11/dist-packages (from matplotlib) (0.12.1)\n",
            "Requirement already satisfied: fonttools>=4.22.0 in /usr/local/lib/python3.11/dist-packages (from matplotlib) (4.57.0)\n",
            "Requirement already satisfied: kiwisolver>=1.3.1 in /usr/local/lib/python3.11/dist-packages (from matplotlib) (1.4.8)\n",
            "Requirement already satisfied: numpy>=1.23 in /usr/local/lib/python3.11/dist-packages (from matplotlib) (2.0.2)\n",
            "Requirement already satisfied: packaging>=20.0 in /usr/local/lib/python3.11/dist-packages (from matplotlib) (24.2)\n",
            "Requirement already satisfied: pillow>=8 in /usr/local/lib/python3.11/dist-packages (from matplotlib) (11.1.0)\n",
            "Requirement already satisfied: pyparsing>=2.3.1 in /usr/local/lib/python3.11/dist-packages (from matplotlib) (3.2.3)\n",
            "Requirement already satisfied: python-dateutil>=2.7 in /usr/local/lib/python3.11/dist-packages (from matplotlib) (2.8.2)\n",
            "Requirement already satisfied: six>=1.5 in /usr/local/lib/python3.11/dist-packages (from python-dateutil>=2.7->matplotlib) (1.17.0)\n"
          ]
        }
      ],
      "source": [
        "!pip install pandas\n",
        "!pip install matplotlib"
      ],
      "execution_count": 2
    },
    {
      "cell_type": "markdown",
      "metadata": {
        "id": "37b8c69b-ce80-4c51-bef1-fa344e72a840"
      },
      "source": [
        "## Tasks\n"
      ]
    },
    {
      "cell_type": "markdown",
      "metadata": {
        "id": "9944eb65-42f7-4a97-bc2a-87f69456a1a4"
      },
      "source": [
        "#### Step 1: Import the necessary module.\n"
      ]
    },
    {
      "cell_type": "markdown",
      "metadata": {
        "id": "6f636b4c-6417-4cbc-a15d-da5bdab947e7"
      },
      "source": [
        "### 1. Load the Dataset\n"
      ]
    },
    {
      "cell_type": "markdown",
      "metadata": {
        "id": "d0302abc-6d29-4f75-9023-8bfd18365412"
      },
      "source": [
        "<h5>1.1 Import necessary libraries and load the dataset.</h5>\n"
      ]
    },
    {
      "cell_type": "markdown",
      "metadata": {
        "id": "d1acfb07-c289-45fc-a4a3-20bcad583eed"
      },
      "source": [
        "Ensure the dataset is loaded correctly by displaying the first few rows.\n"
      ]
    },
    {
      "cell_type": "code",
      "metadata": {
        "colab": {
          "base_uri": "https://localhost:8080/"
        },
        "id": "417bbb3f-df8d-45ec-8d6e-8f695d9a4a25",
        "outputId": "2da49cc0-135f-4eb4-fef9-5fb84ccdf454"
      },
      "outputs": [
        {
          "output_type": "stream",
          "name": "stdout",
          "text": [
            "   ResponseId                      MainBranch                 Age  \\\n",
            "0           1  I am a developer by profession  Under 18 years old   \n",
            "1           2  I am a developer by profession     35-44 years old   \n",
            "2           3  I am a developer by profession     45-54 years old   \n",
            "3           4           I am learning to code     18-24 years old   \n",
            "4           5  I am a developer by profession     18-24 years old   \n",
            "\n",
            "            Employment RemoteWork   Check  \\\n",
            "0  Employed, full-time     Remote  Apples   \n",
            "1  Employed, full-time     Remote  Apples   \n",
            "2  Employed, full-time     Remote  Apples   \n",
            "3   Student, full-time        NaN  Apples   \n",
            "4   Student, full-time        NaN  Apples   \n",
            "\n",
            "                                    CodingActivities  \\\n",
            "0                                              Hobby   \n",
            "1  Hobby;Contribute to open-source projects;Other...   \n",
            "2  Hobby;Contribute to open-source projects;Other...   \n",
            "3                                                NaN   \n",
            "4                                                NaN   \n",
            "\n",
            "                                             EdLevel  \\\n",
            "0                          Primary/elementary school   \n",
            "1       Bachelor’s degree (B.A., B.S., B.Eng., etc.)   \n",
            "2    Master’s degree (M.A., M.S., M.Eng., MBA, etc.)   \n",
            "3  Some college/university study without earning ...   \n",
            "4  Secondary school (e.g. American high school, G...   \n",
            "\n",
            "                                           LearnCode  \\\n",
            "0                             Books / Physical media   \n",
            "1  Books / Physical media;Colleague;On the job tr...   \n",
            "2  Books / Physical media;Colleague;On the job tr...   \n",
            "3  Other online resources (e.g., videos, blogs, f...   \n",
            "4  Other online resources (e.g., videos, blogs, f...   \n",
            "\n",
            "                                     LearnCodeOnline  ... JobSatPoints_6  \\\n",
            "0                                                NaN  ...            NaN   \n",
            "1  Technical documentation;Blogs;Books;Written Tu...  ...            0.0   \n",
            "2  Technical documentation;Blogs;Books;Written Tu...  ...            NaN   \n",
            "3  Stack Overflow;How-to videos;Interactive tutorial  ...            NaN   \n",
            "4  Technical documentation;Blogs;Written Tutorial...  ...            NaN   \n",
            "\n",
            "  JobSatPoints_7 JobSatPoints_8 JobSatPoints_9 JobSatPoints_10  \\\n",
            "0            NaN            NaN            NaN             NaN   \n",
            "1            0.0            0.0            0.0             0.0   \n",
            "2            NaN            NaN            NaN             NaN   \n",
            "3            NaN            NaN            NaN             NaN   \n",
            "4            NaN            NaN            NaN             NaN   \n",
            "\n",
            "  JobSatPoints_11           SurveyLength SurveyEase ConvertedCompYearly JobSat  \n",
            "0             NaN                    NaN        NaN                 NaN    NaN  \n",
            "1             0.0                    NaN        NaN                 NaN    NaN  \n",
            "2             NaN  Appropriate in length       Easy                 NaN    NaN  \n",
            "3             NaN               Too long       Easy                 NaN    NaN  \n",
            "4             NaN              Too short       Easy                 NaN    NaN  \n",
            "\n",
            "[5 rows x 114 columns]\n"
          ]
        }
      ],
      "source": [
        "# Import necessary libraries\n",
        "import pandas as pd\n",
        "\n",
        "# Load the Stack Overflow survey data\n",
        "dataset_url = \"https://cf-courses-data.s3.us.cloud-object-storage.appdomain.cloud/n01PQ9pSmiRX6520flujwQ/survey-data.csv\"\n",
        "df = pd.read_csv(dataset_url)\n",
        "\n",
        "# Display the first few rows\n",
        "print(df.head())\n"
      ],
      "execution_count": 3
    },
    {
      "cell_type": "markdown",
      "metadata": {
        "id": "5c7df306-0dd0-4566-a376-bad64fbf6455"
      },
      "source": [
        "#### 2. Explore the Dataset\n"
      ]
    },
    {
      "cell_type": "markdown",
      "metadata": {
        "id": "0a7b356e-a83e-478a-bd04-da95500e0304"
      },
      "source": [
        "<h5>2.1 Summarize the dataset by displaying the column data types, counts, and missing values.</h5>\n"
      ]
    },
    {
      "cell_type": "code",
      "metadata": {
        "colab": {
          "base_uri": "https://localhost:8080/"
        },
        "id": "a5b368e2-4d3c-4382-9b1c-458be459ecef",
        "outputId": "a4a675b0-fef2-4d1f-efa6-1697925b423e"
      },
      "outputs": [
        {
          "output_type": "stream",
          "name": "stdout",
          "text": [
            "<class 'pandas.core.frame.DataFrame'>\n",
            "RangeIndex: 65437 entries, 0 to 65436\n",
            "Columns: 114 entries, ResponseId to JobSat\n",
            "dtypes: float64(13), int64(1), object(100)\n",
            "memory usage: 56.9+ MB\n",
            "None\n"
          ]
        }
      ],
      "source": [
        "# Write your code here\n",
        "# Display column data types, counts, and missing values\n",
        "print(df.info())"
      ],
      "execution_count": 4
    },
    {
      "cell_type": "markdown",
      "metadata": {
        "id": "685cdd1b-44d7-40cf-ba9f-ee347f747832"
      },
      "source": [
        "<h5>2.2 Generate basic statistics for numerical columns.</h5>\n"
      ]
    },
    {
      "cell_type": "code",
      "metadata": {
        "colab": {
          "base_uri": "https://localhost:8080/"
        },
        "id": "e527b643-6963-4a64-aab2-297894062fcb",
        "outputId": "4d5ac95b-12b4-4b7f-fa7a-5e313f226aea"
      },
      "outputs": [
        {
          "output_type": "stream",
          "name": "stdout",
          "text": [
            "         ResponseId      CompTotal       WorkExp  JobSatPoints_1  \\\n",
            "count  65437.000000   3.374000e+04  29658.000000    29324.000000   \n",
            "mean   32719.000000  2.963841e+145     11.466957       18.581094   \n",
            "std    18890.179119  5.444117e+147      9.168709       25.966221   \n",
            "min        1.000000   0.000000e+00      0.000000        0.000000   \n",
            "25%    16360.000000   6.000000e+04      4.000000        0.000000   \n",
            "50%    32719.000000   1.100000e+05      9.000000       10.000000   \n",
            "75%    49078.000000   2.500000e+05     16.000000       22.000000   \n",
            "max    65437.000000  1.000000e+150     50.000000      100.000000   \n",
            "\n",
            "       JobSatPoints_4  JobSatPoints_5  JobSatPoints_6  JobSatPoints_7  \\\n",
            "count    29393.000000    29411.000000    29450.000000     29448.00000   \n",
            "mean         7.522140       10.060857       24.343232        22.96522   \n",
            "std         18.422661       21.833836       27.089360        27.01774   \n",
            "min          0.000000        0.000000        0.000000         0.00000   \n",
            "25%          0.000000        0.000000        0.000000         0.00000   \n",
            "50%          0.000000        0.000000       20.000000        15.00000   \n",
            "75%          5.000000       10.000000       30.000000        30.00000   \n",
            "max        100.000000      100.000000      100.000000       100.00000   \n",
            "\n",
            "       JobSatPoints_8  JobSatPoints_9  JobSatPoints_10  JobSatPoints_11  \\\n",
            "count    29456.000000    29456.000000     29450.000000     29445.000000   \n",
            "mean        20.278165       16.169432        10.955713         9.953948   \n",
            "std         26.108110       24.845032        22.906263        21.775652   \n",
            "min          0.000000        0.000000         0.000000         0.000000   \n",
            "25%          0.000000        0.000000         0.000000         0.000000   \n",
            "50%         10.000000        5.000000         0.000000         0.000000   \n",
            "75%         25.000000       20.000000        10.000000        10.000000   \n",
            "max        100.000000      100.000000       100.000000       100.000000   \n",
            "\n",
            "       ConvertedCompYearly        JobSat  \n",
            "count         2.343500e+04  29126.000000  \n",
            "mean          8.615529e+04      6.935041  \n",
            "std           1.867570e+05      2.088259  \n",
            "min           1.000000e+00      0.000000  \n",
            "25%           3.271200e+04      6.000000  \n",
            "50%           6.500000e+04      7.000000  \n",
            "75%           1.079715e+05      8.000000  \n",
            "max           1.625660e+07     10.000000  \n"
          ]
        }
      ],
      "source": [
        "# Write your code here\n",
        "# Generate basic statistics for numerical columns\n",
        "print(df.describe())"
      ],
      "execution_count": 5
    },
    {
      "cell_type": "markdown",
      "metadata": {
        "id": "8ca71359-8f5b-4f33-afe9-af011c2eae37"
      },
      "source": [
        "### 3. Identifying and Removing Inconsistencies\n"
      ]
    },
    {
      "cell_type": "markdown",
      "metadata": {
        "id": "224d423d-4338-423a-ae66-40981cc7809d"
      },
      "source": [
        "<h5>3.1 Identify inconsistent or irrelevant entries in specific columns (e.g., Country).</h5>\n"
      ]
    },
    {
      "cell_type": "code",
      "metadata": {
        "colab": {
          "base_uri": "https://localhost:8080/"
        },
        "id": "fd43fee0-2805-495c-93df-2f93fa2c35fa",
        "outputId": "13f38f9f-d385-4600-c933-6ca2c5af75ac"
      },
      "outputs": [
        {
          "output_type": "stream",
          "name": "stdout",
          "text": [
            "Unique Country Values:\n",
            " ['United States of America'\n",
            " 'United Kingdom of Great Britain and Northern Ireland' 'Canada' 'Norway'\n",
            " 'Uzbekistan' 'Serbia' 'Poland' 'Philippines' 'Bulgaria' 'Switzerland'\n",
            " 'India' 'Germany' 'Ireland' 'Italy' 'Ukraine' 'Australia' 'Brazil'\n",
            " 'Japan' 'Austria' 'Iran, Islamic Republic of...' 'France' 'Saudi Arabia'\n",
            " 'Romania' 'Turkey' 'Nepal' 'Algeria' 'Sweden' 'Netherlands' 'Croatia'\n",
            " 'Pakistan' 'Czech Republic' 'Republic of North Macedonia' 'Finland'\n",
            " 'Slovakia' 'Russian Federation' 'Greece' 'Israel' 'Belgium' 'Mexico'\n",
            " 'United Republic of Tanzania' 'Hungary' 'Argentina' 'Portugal'\n",
            " 'Sri Lanka' 'Latvia' 'China' 'Singapore' 'Lebanon' 'Spain' 'South Africa'\n",
            " 'Lithuania' 'Viet Nam' 'Dominican Republic' 'Indonesia' 'Kosovo'\n",
            " 'Morocco' 'Taiwan' 'Georgia' 'San Marino' 'Tunisia' 'Bangladesh'\n",
            " 'Nigeria' 'Liechtenstein' 'Denmark' 'Ecuador' 'Malaysia' 'Albania'\n",
            " 'Azerbaijan' 'Chile' 'Ghana' 'Peru' 'Bolivia' 'Egypt' 'Luxembourg'\n",
            " 'Montenegro' 'Cyprus' 'Paraguay' 'Kazakhstan' 'Slovenia' 'Jordan'\n",
            " 'Venezuela, Bolivarian Republic of...' 'Costa Rica' 'Jamaica' 'Thailand'\n",
            " 'Nicaragua' 'Myanmar' 'Republic of Korea' 'Rwanda'\n",
            " 'Bosnia and Herzegovina' 'Benin' 'El Salvador' 'Zimbabwe' 'Afghanistan'\n",
            " 'Estonia' 'Malta' 'Uruguay' 'Belarus' 'Colombia' 'Republic of Moldova'\n",
            " 'Isle of Man' 'Nomadic' 'New Zealand' 'Palestine' 'Armenia'\n",
            " 'United Arab Emirates' 'Maldives' 'Ethiopia' 'Fiji' 'Guatemala' 'Uganda'\n",
            " 'Turkmenistan' 'Mauritius' 'Kenya' 'Cuba' 'Gabon' 'Bahamas' 'South Korea'\n",
            " 'Iceland' 'Honduras' 'Hong Kong (S.A.R.)'\n",
            " \"Lao People's Democratic Republic\" 'Mongolia' 'Cambodia' 'Madagascar'\n",
            " 'Angola' 'Democratic Republic of the Congo' 'Syrian Arab Republic' 'Iraq'\n",
            " 'Namibia' 'Senegal' 'Kyrgyzstan' 'Zambia' 'Swaziland' \"Côte d'Ivoire\"\n",
            " 'Kuwait' 'Tajikistan' 'Burundi' 'Trinidad and Tobago' 'Mauritania'\n",
            " 'Sierra Leone' 'Panama' 'Somalia' 'North Korea' 'Dominica' 'Guyana'\n",
            " 'Togo' 'Oman' 'Barbados' 'Andorra'\n",
            " \"Democratic People's Republic of Korea\" 'Qatar' 'Sudan' 'Cameroon'\n",
            " 'Papua New Guinea' 'Bahrain' 'Yemen' 'Malawi' 'Burkina Faso'\n",
            " 'Congo, Republic of the...' 'Botswana' 'Guinea-Bissau' 'Mozambique'\n",
            " 'Central African Republic' 'Equatorial Guinea' 'Suriname' 'Belize'\n",
            " 'Libyan Arab Jamahiriya' 'Cape Verde' 'Brunei Darussalam' 'Bhutan'\n",
            " 'Guinea' 'Niger' 'Antigua and Barbuda' 'Mali' 'Samoa' 'Lesotho'\n",
            " 'Saint Kitts and Nevis' 'Monaco' 'Micronesia, Federated States of...'\n",
            " 'Haiti' nan 'Nauru' 'Liberia' 'Chad' 'Djibouti' 'Solomon Islands']\n",
            "\n",
            "Country Value Counts:\n",
            " Country\n",
            "United States of America                                11095\n",
            "NaN                                                      6507\n",
            "Germany                                                  4947\n",
            "India                                                    4231\n",
            "United Kingdom of Great Britain and Northern Ireland     3224\n",
            "                                                        ...  \n",
            "Micronesia, Federated States of...                          1\n",
            "Nauru                                                       1\n",
            "Chad                                                        1\n",
            "Djibouti                                                    1\n",
            "Solomon Islands                                             1\n",
            "Name: count, Length: 186, dtype: int64\n"
          ]
        }
      ],
      "source": [
        "# Write your code here\n",
        "# Preview unique values in the 'Country' column\n",
        "unique_countries = df['Country'].unique()\n",
        "print(\"Unique Country Values:\\n\", unique_countries)\n",
        "\n",
        "# Count frequency of each unique entry\n",
        "country_counts = df['Country'].value_counts(dropna=False)\n",
        "print(\"\\nCountry Value Counts:\\n\", country_counts)"
      ],
      "execution_count": 6
    },
    {
      "cell_type": "markdown",
      "metadata": {
        "id": "a32ff9e2-d19e-4175-9997-907c09a94df0"
      },
      "source": [
        "<h5>3.2 Standardize entries in columns like Country or EdLevel by mapping inconsistent values to a consistent format.</h5>\n"
      ]
    },
    {
      "cell_type": "code",
      "metadata": {
        "colab": {
          "base_uri": "https://localhost:8080/",
          "height": 965
        },
        "id": "196a5909-90b5-4a2b-80cc-ca4427fb97f6",
        "outputId": "d288629b-6c78-4e57-b794-2b3087798adc"
      },
      "outputs": [
        {
          "output_type": "execute_result",
          "data": {
            "text/plain": [
              "       ResponseId                      MainBranch                 Age  \\\n",
              "0               1  I am a developer by profession  Under 18 years old   \n",
              "1               2  I am a developer by profession     35-44 years old   \n",
              "2               3  I am a developer by profession     45-54 years old   \n",
              "3               4           I am learning to code     18-24 years old   \n",
              "4               5  I am a developer by profession     18-24 years old   \n",
              "...           ...                             ...                 ...   \n",
              "65432       65433  I am a developer by profession     18-24 years old   \n",
              "65433       65434  I am a developer by profession     25-34 years old   \n",
              "65434       65435  I am a developer by profession     25-34 years old   \n",
              "65435       65436  I am a developer by profession     18-24 years old   \n",
              "65436       65437     I code primarily as a hobby     18-24 years old   \n",
              "\n",
              "                Employment                            RemoteWork   Check  \\\n",
              "0      Employed, full-time                                Remote  Apples   \n",
              "1      Employed, full-time                                Remote  Apples   \n",
              "2      Employed, full-time                                Remote  Apples   \n",
              "3       Student, full-time                                   NaN  Apples   \n",
              "4       Student, full-time                                   NaN  Apples   \n",
              "...                    ...                                   ...     ...   \n",
              "65432  Employed, full-time                                Remote  Apples   \n",
              "65433  Employed, full-time                                Remote  Apples   \n",
              "65434  Employed, full-time                             In-person  Apples   \n",
              "65435  Employed, full-time  Hybrid (some remote, some in-person)  Apples   \n",
              "65436   Student, full-time                                   NaN  Apples   \n",
              "\n",
              "                                        CodingActivities  \\\n",
              "0                                                  Hobby   \n",
              "1      Hobby;Contribute to open-source projects;Other...   \n",
              "2      Hobby;Contribute to open-source projects;Other...   \n",
              "3                                                    NaN   \n",
              "4                                                    NaN   \n",
              "...                                                  ...   \n",
              "65432                      Hobby;School or academic work   \n",
              "65433           Hobby;Contribute to open-source projects   \n",
              "65434                                              Hobby   \n",
              "65435  Hobby;Contribute to open-source projects;Profe...   \n",
              "65436                                                NaN   \n",
              "\n",
              "                                                 EdLevel  \\\n",
              "0                              Primary/Elementary School   \n",
              "1           Bachelor’S Degree (B.A., B.S., B.Eng., Etc.)   \n",
              "2        Master’S Degree (M.A., M.S., M.Eng., Mba, Etc.)   \n",
              "3      Some College/University Study Without Earning ...   \n",
              "4      Secondary School (E.G. American High School, G...   \n",
              "...                                                  ...   \n",
              "65432       Bachelor’S Degree (B.A., B.S., B.Eng., Etc.)   \n",
              "65433                                                NaN   \n",
              "65434       Bachelor’S Degree (B.A., B.S., B.Eng., Etc.)   \n",
              "65435  Secondary School (E.G. American High School, G...   \n",
              "65436                                                NaN   \n",
              "\n",
              "                                               LearnCode  \\\n",
              "0                                 Books / Physical media   \n",
              "1      Books / Physical media;Colleague;On the job tr...   \n",
              "2      Books / Physical media;Colleague;On the job tr...   \n",
              "3      Other online resources (e.g., videos, blogs, f...   \n",
              "4      Other online resources (e.g., videos, blogs, f...   \n",
              "...                                                  ...   \n",
              "65432  On the job training;School (i.e., University, ...   \n",
              "65433                                                NaN   \n",
              "65434  Other online resources (e.g., videos, blogs, f...   \n",
              "65435  On the job training;Other online resources (e....   \n",
              "65436                                                NaN   \n",
              "\n",
              "                                         LearnCodeOnline  ... JobSatPoints_6  \\\n",
              "0                                                    NaN  ...            NaN   \n",
              "1      Technical documentation;Blogs;Books;Written Tu...  ...            0.0   \n",
              "2      Technical documentation;Blogs;Books;Written Tu...  ...            NaN   \n",
              "3      Stack Overflow;How-to videos;Interactive tutorial  ...            NaN   \n",
              "4      Technical documentation;Blogs;Written Tutorial...  ...            NaN   \n",
              "...                                                  ...  ...            ...   \n",
              "65432                                                NaN  ...            NaN   \n",
              "65433                                                NaN  ...            NaN   \n",
              "65434  Technical documentation;Stack Overflow;Social ...  ...            NaN   \n",
              "65435  Technical documentation;Blogs;Written Tutorial...  ...            0.0   \n",
              "65436                                                NaN  ...            NaN   \n",
              "\n",
              "      JobSatPoints_7 JobSatPoints_8 JobSatPoints_9 JobSatPoints_10  \\\n",
              "0                NaN            NaN            NaN             NaN   \n",
              "1                0.0            0.0            0.0             0.0   \n",
              "2                NaN            NaN            NaN             NaN   \n",
              "3                NaN            NaN            NaN             NaN   \n",
              "4                NaN            NaN            NaN             NaN   \n",
              "...              ...            ...            ...             ...   \n",
              "65432            NaN            NaN            NaN             NaN   \n",
              "65433            NaN            NaN            NaN             NaN   \n",
              "65434            NaN            NaN            NaN             NaN   \n",
              "65435            0.0            0.0            0.0             0.0   \n",
              "65436            NaN            NaN            NaN             NaN   \n",
              "\n",
              "      JobSatPoints_11           SurveyLength SurveyEase ConvertedCompYearly  \\\n",
              "0                 NaN                    NaN        NaN                 NaN   \n",
              "1                 0.0                    NaN        NaN                 NaN   \n",
              "2                 NaN  Appropriate in length       Easy                 NaN   \n",
              "3                 NaN               Too long       Easy                 NaN   \n",
              "4                 NaN              Too short       Easy                 NaN   \n",
              "...               ...                    ...        ...                 ...   \n",
              "65432             NaN                    NaN        NaN                 NaN   \n",
              "65433             NaN                    NaN        NaN                 NaN   \n",
              "65434             NaN                    NaN        NaN                 NaN   \n",
              "65435             0.0                    NaN        NaN                 NaN   \n",
              "65436             NaN                    NaN        NaN                 NaN   \n",
              "\n",
              "      JobSat  \n",
              "0        NaN  \n",
              "1        NaN  \n",
              "2        NaN  \n",
              "3        NaN  \n",
              "4        NaN  \n",
              "...      ...  \n",
              "65432    NaN  \n",
              "65433    NaN  \n",
              "65434    NaN  \n",
              "65435    NaN  \n",
              "65436    NaN  \n",
              "\n",
              "[65437 rows x 114 columns]"
            ],
            "text/html": [
              "\n",
              "  <div id=\"df-2b9957e2-af50-4911-a2f4-59dedbb64004\" class=\"colab-df-container\">\n",
              "    <div>\n",
              "<style scoped>\n",
              "    .dataframe tbody tr th:only-of-type {\n",
              "        vertical-align: middle;\n",
              "    }\n",
              "\n",
              "    .dataframe tbody tr th {\n",
              "        vertical-align: top;\n",
              "    }\n",
              "\n",
              "    .dataframe thead th {\n",
              "        text-align: right;\n",
              "    }\n",
              "</style>\n",
              "<table border=\"1\" class=\"dataframe\">\n",
              "  <thead>\n",
              "    <tr style=\"text-align: right;\">\n",
              "      <th></th>\n",
              "      <th>ResponseId</th>\n",
              "      <th>MainBranch</th>\n",
              "      <th>Age</th>\n",
              "      <th>Employment</th>\n",
              "      <th>RemoteWork</th>\n",
              "      <th>Check</th>\n",
              "      <th>CodingActivities</th>\n",
              "      <th>EdLevel</th>\n",
              "      <th>LearnCode</th>\n",
              "      <th>LearnCodeOnline</th>\n",
              "      <th>...</th>\n",
              "      <th>JobSatPoints_6</th>\n",
              "      <th>JobSatPoints_7</th>\n",
              "      <th>JobSatPoints_8</th>\n",
              "      <th>JobSatPoints_9</th>\n",
              "      <th>JobSatPoints_10</th>\n",
              "      <th>JobSatPoints_11</th>\n",
              "      <th>SurveyLength</th>\n",
              "      <th>SurveyEase</th>\n",
              "      <th>ConvertedCompYearly</th>\n",
              "      <th>JobSat</th>\n",
              "    </tr>\n",
              "  </thead>\n",
              "  <tbody>\n",
              "    <tr>\n",
              "      <th>0</th>\n",
              "      <td>1</td>\n",
              "      <td>I am a developer by profession</td>\n",
              "      <td>Under 18 years old</td>\n",
              "      <td>Employed, full-time</td>\n",
              "      <td>Remote</td>\n",
              "      <td>Apples</td>\n",
              "      <td>Hobby</td>\n",
              "      <td>Primary/Elementary School</td>\n",
              "      <td>Books / Physical media</td>\n",
              "      <td>NaN</td>\n",
              "      <td>...</td>\n",
              "      <td>NaN</td>\n",
              "      <td>NaN</td>\n",
              "      <td>NaN</td>\n",
              "      <td>NaN</td>\n",
              "      <td>NaN</td>\n",
              "      <td>NaN</td>\n",
              "      <td>NaN</td>\n",
              "      <td>NaN</td>\n",
              "      <td>NaN</td>\n",
              "      <td>NaN</td>\n",
              "    </tr>\n",
              "    <tr>\n",
              "      <th>1</th>\n",
              "      <td>2</td>\n",
              "      <td>I am a developer by profession</td>\n",
              "      <td>35-44 years old</td>\n",
              "      <td>Employed, full-time</td>\n",
              "      <td>Remote</td>\n",
              "      <td>Apples</td>\n",
              "      <td>Hobby;Contribute to open-source projects;Other...</td>\n",
              "      <td>Bachelor’S Degree (B.A., B.S., B.Eng., Etc.)</td>\n",
              "      <td>Books / Physical media;Colleague;On the job tr...</td>\n",
              "      <td>Technical documentation;Blogs;Books;Written Tu...</td>\n",
              "      <td>...</td>\n",
              "      <td>0.0</td>\n",
              "      <td>0.0</td>\n",
              "      <td>0.0</td>\n",
              "      <td>0.0</td>\n",
              "      <td>0.0</td>\n",
              "      <td>0.0</td>\n",
              "      <td>NaN</td>\n",
              "      <td>NaN</td>\n",
              "      <td>NaN</td>\n",
              "      <td>NaN</td>\n",
              "    </tr>\n",
              "    <tr>\n",
              "      <th>2</th>\n",
              "      <td>3</td>\n",
              "      <td>I am a developer by profession</td>\n",
              "      <td>45-54 years old</td>\n",
              "      <td>Employed, full-time</td>\n",
              "      <td>Remote</td>\n",
              "      <td>Apples</td>\n",
              "      <td>Hobby;Contribute to open-source projects;Other...</td>\n",
              "      <td>Master’S Degree (M.A., M.S., M.Eng., Mba, Etc.)</td>\n",
              "      <td>Books / Physical media;Colleague;On the job tr...</td>\n",
              "      <td>Technical documentation;Blogs;Books;Written Tu...</td>\n",
              "      <td>...</td>\n",
              "      <td>NaN</td>\n",
              "      <td>NaN</td>\n",
              "      <td>NaN</td>\n",
              "      <td>NaN</td>\n",
              "      <td>NaN</td>\n",
              "      <td>NaN</td>\n",
              "      <td>Appropriate in length</td>\n",
              "      <td>Easy</td>\n",
              "      <td>NaN</td>\n",
              "      <td>NaN</td>\n",
              "    </tr>\n",
              "    <tr>\n",
              "      <th>3</th>\n",
              "      <td>4</td>\n",
              "      <td>I am learning to code</td>\n",
              "      <td>18-24 years old</td>\n",
              "      <td>Student, full-time</td>\n",
              "      <td>NaN</td>\n",
              "      <td>Apples</td>\n",
              "      <td>NaN</td>\n",
              "      <td>Some College/University Study Without Earning ...</td>\n",
              "      <td>Other online resources (e.g., videos, blogs, f...</td>\n",
              "      <td>Stack Overflow;How-to videos;Interactive tutorial</td>\n",
              "      <td>...</td>\n",
              "      <td>NaN</td>\n",
              "      <td>NaN</td>\n",
              "      <td>NaN</td>\n",
              "      <td>NaN</td>\n",
              "      <td>NaN</td>\n",
              "      <td>NaN</td>\n",
              "      <td>Too long</td>\n",
              "      <td>Easy</td>\n",
              "      <td>NaN</td>\n",
              "      <td>NaN</td>\n",
              "    </tr>\n",
              "    <tr>\n",
              "      <th>4</th>\n",
              "      <td>5</td>\n",
              "      <td>I am a developer by profession</td>\n",
              "      <td>18-24 years old</td>\n",
              "      <td>Student, full-time</td>\n",
              "      <td>NaN</td>\n",
              "      <td>Apples</td>\n",
              "      <td>NaN</td>\n",
              "      <td>Secondary School (E.G. American High School, G...</td>\n",
              "      <td>Other online resources (e.g., videos, blogs, f...</td>\n",
              "      <td>Technical documentation;Blogs;Written Tutorial...</td>\n",
              "      <td>...</td>\n",
              "      <td>NaN</td>\n",
              "      <td>NaN</td>\n",
              "      <td>NaN</td>\n",
              "      <td>NaN</td>\n",
              "      <td>NaN</td>\n",
              "      <td>NaN</td>\n",
              "      <td>Too short</td>\n",
              "      <td>Easy</td>\n",
              "      <td>NaN</td>\n",
              "      <td>NaN</td>\n",
              "    </tr>\n",
              "    <tr>\n",
              "      <th>...</th>\n",
              "      <td>...</td>\n",
              "      <td>...</td>\n",
              "      <td>...</td>\n",
              "      <td>...</td>\n",
              "      <td>...</td>\n",
              "      <td>...</td>\n",
              "      <td>...</td>\n",
              "      <td>...</td>\n",
              "      <td>...</td>\n",
              "      <td>...</td>\n",
              "      <td>...</td>\n",
              "      <td>...</td>\n",
              "      <td>...</td>\n",
              "      <td>...</td>\n",
              "      <td>...</td>\n",
              "      <td>...</td>\n",
              "      <td>...</td>\n",
              "      <td>...</td>\n",
              "      <td>...</td>\n",
              "      <td>...</td>\n",
              "      <td>...</td>\n",
              "    </tr>\n",
              "    <tr>\n",
              "      <th>65432</th>\n",
              "      <td>65433</td>\n",
              "      <td>I am a developer by profession</td>\n",
              "      <td>18-24 years old</td>\n",
              "      <td>Employed, full-time</td>\n",
              "      <td>Remote</td>\n",
              "      <td>Apples</td>\n",
              "      <td>Hobby;School or academic work</td>\n",
              "      <td>Bachelor’S Degree (B.A., B.S., B.Eng., Etc.)</td>\n",
              "      <td>On the job training;School (i.e., University, ...</td>\n",
              "      <td>NaN</td>\n",
              "      <td>...</td>\n",
              "      <td>NaN</td>\n",
              "      <td>NaN</td>\n",
              "      <td>NaN</td>\n",
              "      <td>NaN</td>\n",
              "      <td>NaN</td>\n",
              "      <td>NaN</td>\n",
              "      <td>NaN</td>\n",
              "      <td>NaN</td>\n",
              "      <td>NaN</td>\n",
              "      <td>NaN</td>\n",
              "    </tr>\n",
              "    <tr>\n",
              "      <th>65433</th>\n",
              "      <td>65434</td>\n",
              "      <td>I am a developer by profession</td>\n",
              "      <td>25-34 years old</td>\n",
              "      <td>Employed, full-time</td>\n",
              "      <td>Remote</td>\n",
              "      <td>Apples</td>\n",
              "      <td>Hobby;Contribute to open-source projects</td>\n",
              "      <td>NaN</td>\n",
              "      <td>NaN</td>\n",
              "      <td>NaN</td>\n",
              "      <td>...</td>\n",
              "      <td>NaN</td>\n",
              "      <td>NaN</td>\n",
              "      <td>NaN</td>\n",
              "      <td>NaN</td>\n",
              "      <td>NaN</td>\n",
              "      <td>NaN</td>\n",
              "      <td>NaN</td>\n",
              "      <td>NaN</td>\n",
              "      <td>NaN</td>\n",
              "      <td>NaN</td>\n",
              "    </tr>\n",
              "    <tr>\n",
              "      <th>65434</th>\n",
              "      <td>65435</td>\n",
              "      <td>I am a developer by profession</td>\n",
              "      <td>25-34 years old</td>\n",
              "      <td>Employed, full-time</td>\n",
              "      <td>In-person</td>\n",
              "      <td>Apples</td>\n",
              "      <td>Hobby</td>\n",
              "      <td>Bachelor’S Degree (B.A., B.S., B.Eng., Etc.)</td>\n",
              "      <td>Other online resources (e.g., videos, blogs, f...</td>\n",
              "      <td>Technical documentation;Stack Overflow;Social ...</td>\n",
              "      <td>...</td>\n",
              "      <td>NaN</td>\n",
              "      <td>NaN</td>\n",
              "      <td>NaN</td>\n",
              "      <td>NaN</td>\n",
              "      <td>NaN</td>\n",
              "      <td>NaN</td>\n",
              "      <td>NaN</td>\n",
              "      <td>NaN</td>\n",
              "      <td>NaN</td>\n",
              "      <td>NaN</td>\n",
              "    </tr>\n",
              "    <tr>\n",
              "      <th>65435</th>\n",
              "      <td>65436</td>\n",
              "      <td>I am a developer by profession</td>\n",
              "      <td>18-24 years old</td>\n",
              "      <td>Employed, full-time</td>\n",
              "      <td>Hybrid (some remote, some in-person)</td>\n",
              "      <td>Apples</td>\n",
              "      <td>Hobby;Contribute to open-source projects;Profe...</td>\n",
              "      <td>Secondary School (E.G. American High School, G...</td>\n",
              "      <td>On the job training;Other online resources (e....</td>\n",
              "      <td>Technical documentation;Blogs;Written Tutorial...</td>\n",
              "      <td>...</td>\n",
              "      <td>0.0</td>\n",
              "      <td>0.0</td>\n",
              "      <td>0.0</td>\n",
              "      <td>0.0</td>\n",
              "      <td>0.0</td>\n",
              "      <td>0.0</td>\n",
              "      <td>NaN</td>\n",
              "      <td>NaN</td>\n",
              "      <td>NaN</td>\n",
              "      <td>NaN</td>\n",
              "    </tr>\n",
              "    <tr>\n",
              "      <th>65436</th>\n",
              "      <td>65437</td>\n",
              "      <td>I code primarily as a hobby</td>\n",
              "      <td>18-24 years old</td>\n",
              "      <td>Student, full-time</td>\n",
              "      <td>NaN</td>\n",
              "      <td>Apples</td>\n",
              "      <td>NaN</td>\n",
              "      <td>NaN</td>\n",
              "      <td>NaN</td>\n",
              "      <td>NaN</td>\n",
              "      <td>...</td>\n",
              "      <td>NaN</td>\n",
              "      <td>NaN</td>\n",
              "      <td>NaN</td>\n",
              "      <td>NaN</td>\n",
              "      <td>NaN</td>\n",
              "      <td>NaN</td>\n",
              "      <td>NaN</td>\n",
              "      <td>NaN</td>\n",
              "      <td>NaN</td>\n",
              "      <td>NaN</td>\n",
              "    </tr>\n",
              "  </tbody>\n",
              "</table>\n",
              "<p>65437 rows × 114 columns</p>\n",
              "</div>\n",
              "    <div class=\"colab-df-buttons\">\n",
              "\n",
              "  <div class=\"colab-df-container\">\n",
              "    <button class=\"colab-df-convert\" onclick=\"convertToInteractive('df-2b9957e2-af50-4911-a2f4-59dedbb64004')\"\n",
              "            title=\"Convert this dataframe to an interactive table.\"\n",
              "            style=\"display:none;\">\n",
              "\n",
              "  <svg xmlns=\"http://www.w3.org/2000/svg\" height=\"24px\" viewBox=\"0 -960 960 960\">\n",
              "    <path d=\"M120-120v-720h720v720H120Zm60-500h600v-160H180v160Zm220 220h160v-160H400v160Zm0 220h160v-160H400v160ZM180-400h160v-160H180v160Zm440 0h160v-160H620v160ZM180-180h160v-160H180v160Zm440 0h160v-160H620v160Z\"/>\n",
              "  </svg>\n",
              "    </button>\n",
              "\n",
              "  <style>\n",
              "    .colab-df-container {\n",
              "      display:flex;\n",
              "      gap: 12px;\n",
              "    }\n",
              "\n",
              "    .colab-df-convert {\n",
              "      background-color: #E8F0FE;\n",
              "      border: none;\n",
              "      border-radius: 50%;\n",
              "      cursor: pointer;\n",
              "      display: none;\n",
              "      fill: #1967D2;\n",
              "      height: 32px;\n",
              "      padding: 0 0 0 0;\n",
              "      width: 32px;\n",
              "    }\n",
              "\n",
              "    .colab-df-convert:hover {\n",
              "      background-color: #E2EBFA;\n",
              "      box-shadow: 0px 1px 2px rgba(60, 64, 67, 0.3), 0px 1px 3px 1px rgba(60, 64, 67, 0.15);\n",
              "      fill: #174EA6;\n",
              "    }\n",
              "\n",
              "    .colab-df-buttons div {\n",
              "      margin-bottom: 4px;\n",
              "    }\n",
              "\n",
              "    [theme=dark] .colab-df-convert {\n",
              "      background-color: #3B4455;\n",
              "      fill: #D2E3FC;\n",
              "    }\n",
              "\n",
              "    [theme=dark] .colab-df-convert:hover {\n",
              "      background-color: #434B5C;\n",
              "      box-shadow: 0px 1px 3px 1px rgba(0, 0, 0, 0.15);\n",
              "      filter: drop-shadow(0px 1px 2px rgba(0, 0, 0, 0.3));\n",
              "      fill: #FFFFFF;\n",
              "    }\n",
              "  </style>\n",
              "\n",
              "    <script>\n",
              "      const buttonEl =\n",
              "        document.querySelector('#df-2b9957e2-af50-4911-a2f4-59dedbb64004 button.colab-df-convert');\n",
              "      buttonEl.style.display =\n",
              "        google.colab.kernel.accessAllowed ? 'block' : 'none';\n",
              "\n",
              "      async function convertToInteractive(key) {\n",
              "        const element = document.querySelector('#df-2b9957e2-af50-4911-a2f4-59dedbb64004');\n",
              "        const dataTable =\n",
              "          await google.colab.kernel.invokeFunction('convertToInteractive',\n",
              "                                                    [key], {});\n",
              "        if (!dataTable) return;\n",
              "\n",
              "        const docLinkHtml = 'Like what you see? Visit the ' +\n",
              "          '<a target=\"_blank\" href=https://colab.research.google.com/notebooks/data_table.ipynb>data table notebook</a>'\n",
              "          + ' to learn more about interactive tables.';\n",
              "        element.innerHTML = '';\n",
              "        dataTable['output_type'] = 'display_data';\n",
              "        await google.colab.output.renderOutput(dataTable, element);\n",
              "        const docLink = document.createElement('div');\n",
              "        docLink.innerHTML = docLinkHtml;\n",
              "        element.appendChild(docLink);\n",
              "      }\n",
              "    </script>\n",
              "  </div>\n",
              "\n",
              "\n",
              "<div id=\"df-5fab9e2a-b539-4f7d-82b7-1c1e15f9c5fc\">\n",
              "  <button class=\"colab-df-quickchart\" onclick=\"quickchart('df-5fab9e2a-b539-4f7d-82b7-1c1e15f9c5fc')\"\n",
              "            title=\"Suggest charts\"\n",
              "            style=\"display:none;\">\n",
              "\n",
              "<svg xmlns=\"http://www.w3.org/2000/svg\" height=\"24px\"viewBox=\"0 0 24 24\"\n",
              "     width=\"24px\">\n",
              "    <g>\n",
              "        <path d=\"M19 3H5c-1.1 0-2 .9-2 2v14c0 1.1.9 2 2 2h14c1.1 0 2-.9 2-2V5c0-1.1-.9-2-2-2zM9 17H7v-7h2v7zm4 0h-2V7h2v10zm4 0h-2v-4h2v4z\"/>\n",
              "    </g>\n",
              "</svg>\n",
              "  </button>\n",
              "\n",
              "<style>\n",
              "  .colab-df-quickchart {\n",
              "      --bg-color: #E8F0FE;\n",
              "      --fill-color: #1967D2;\n",
              "      --hover-bg-color: #E2EBFA;\n",
              "      --hover-fill-color: #174EA6;\n",
              "      --disabled-fill-color: #AAA;\n",
              "      --disabled-bg-color: #DDD;\n",
              "  }\n",
              "\n",
              "  [theme=dark] .colab-df-quickchart {\n",
              "      --bg-color: #3B4455;\n",
              "      --fill-color: #D2E3FC;\n",
              "      --hover-bg-color: #434B5C;\n",
              "      --hover-fill-color: #FFFFFF;\n",
              "      --disabled-bg-color: #3B4455;\n",
              "      --disabled-fill-color: #666;\n",
              "  }\n",
              "\n",
              "  .colab-df-quickchart {\n",
              "    background-color: var(--bg-color);\n",
              "    border: none;\n",
              "    border-radius: 50%;\n",
              "    cursor: pointer;\n",
              "    display: none;\n",
              "    fill: var(--fill-color);\n",
              "    height: 32px;\n",
              "    padding: 0;\n",
              "    width: 32px;\n",
              "  }\n",
              "\n",
              "  .colab-df-quickchart:hover {\n",
              "    background-color: var(--hover-bg-color);\n",
              "    box-shadow: 0 1px 2px rgba(60, 64, 67, 0.3), 0 1px 3px 1px rgba(60, 64, 67, 0.15);\n",
              "    fill: var(--button-hover-fill-color);\n",
              "  }\n",
              "\n",
              "  .colab-df-quickchart-complete:disabled,\n",
              "  .colab-df-quickchart-complete:disabled:hover {\n",
              "    background-color: var(--disabled-bg-color);\n",
              "    fill: var(--disabled-fill-color);\n",
              "    box-shadow: none;\n",
              "  }\n",
              "\n",
              "  .colab-df-spinner {\n",
              "    border: 2px solid var(--fill-color);\n",
              "    border-color: transparent;\n",
              "    border-bottom-color: var(--fill-color);\n",
              "    animation:\n",
              "      spin 1s steps(1) infinite;\n",
              "  }\n",
              "\n",
              "  @keyframes spin {\n",
              "    0% {\n",
              "      border-color: transparent;\n",
              "      border-bottom-color: var(--fill-color);\n",
              "      border-left-color: var(--fill-color);\n",
              "    }\n",
              "    20% {\n",
              "      border-color: transparent;\n",
              "      border-left-color: var(--fill-color);\n",
              "      border-top-color: var(--fill-color);\n",
              "    }\n",
              "    30% {\n",
              "      border-color: transparent;\n",
              "      border-left-color: var(--fill-color);\n",
              "      border-top-color: var(--fill-color);\n",
              "      border-right-color: var(--fill-color);\n",
              "    }\n",
              "    40% {\n",
              "      border-color: transparent;\n",
              "      border-right-color: var(--fill-color);\n",
              "      border-top-color: var(--fill-color);\n",
              "    }\n",
              "    60% {\n",
              "      border-color: transparent;\n",
              "      border-right-color: var(--fill-color);\n",
              "    }\n",
              "    80% {\n",
              "      border-color: transparent;\n",
              "      border-right-color: var(--fill-color);\n",
              "      border-bottom-color: var(--fill-color);\n",
              "    }\n",
              "    90% {\n",
              "      border-color: transparent;\n",
              "      border-bottom-color: var(--fill-color);\n",
              "    }\n",
              "  }\n",
              "</style>\n",
              "\n",
              "  <script>\n",
              "    async function quickchart(key) {\n",
              "      const quickchartButtonEl =\n",
              "        document.querySelector('#' + key + ' button');\n",
              "      quickchartButtonEl.disabled = true;  // To prevent multiple clicks.\n",
              "      quickchartButtonEl.classList.add('colab-df-spinner');\n",
              "      try {\n",
              "        const charts = await google.colab.kernel.invokeFunction(\n",
              "            'suggestCharts', [key], {});\n",
              "      } catch (error) {\n",
              "        console.error('Error during call to suggestCharts:', error);\n",
              "      }\n",
              "      quickchartButtonEl.classList.remove('colab-df-spinner');\n",
              "      quickchartButtonEl.classList.add('colab-df-quickchart-complete');\n",
              "    }\n",
              "    (() => {\n",
              "      let quickchartButtonEl =\n",
              "        document.querySelector('#df-5fab9e2a-b539-4f7d-82b7-1c1e15f9c5fc button');\n",
              "      quickchartButtonEl.style.display =\n",
              "        google.colab.kernel.accessAllowed ? 'block' : 'none';\n",
              "    })();\n",
              "  </script>\n",
              "</div>\n",
              "\n",
              "  <div id=\"id_f8bd2734-a24c-4780-a32f-79f7333fd754\">\n",
              "    <style>\n",
              "      .colab-df-generate {\n",
              "        background-color: #E8F0FE;\n",
              "        border: none;\n",
              "        border-radius: 50%;\n",
              "        cursor: pointer;\n",
              "        display: none;\n",
              "        fill: #1967D2;\n",
              "        height: 32px;\n",
              "        padding: 0 0 0 0;\n",
              "        width: 32px;\n",
              "      }\n",
              "\n",
              "      .colab-df-generate:hover {\n",
              "        background-color: #E2EBFA;\n",
              "        box-shadow: 0px 1px 2px rgba(60, 64, 67, 0.3), 0px 1px 3px 1px rgba(60, 64, 67, 0.15);\n",
              "        fill: #174EA6;\n",
              "      }\n",
              "\n",
              "      [theme=dark] .colab-df-generate {\n",
              "        background-color: #3B4455;\n",
              "        fill: #D2E3FC;\n",
              "      }\n",
              "\n",
              "      [theme=dark] .colab-df-generate:hover {\n",
              "        background-color: #434B5C;\n",
              "        box-shadow: 0px 1px 3px 1px rgba(0, 0, 0, 0.15);\n",
              "        filter: drop-shadow(0px 1px 2px rgba(0, 0, 0, 0.3));\n",
              "        fill: #FFFFFF;\n",
              "      }\n",
              "    </style>\n",
              "    <button class=\"colab-df-generate\" onclick=\"generateWithVariable('df')\"\n",
              "            title=\"Generate code using this dataframe.\"\n",
              "            style=\"display:none;\">\n",
              "\n",
              "  <svg xmlns=\"http://www.w3.org/2000/svg\" height=\"24px\"viewBox=\"0 0 24 24\"\n",
              "       width=\"24px\">\n",
              "    <path d=\"M7,19H8.4L18.45,9,17,7.55,7,17.6ZM5,21V16.75L18.45,3.32a2,2,0,0,1,2.83,0l1.4,1.43a1.91,1.91,0,0,1,.58,1.4,1.91,1.91,0,0,1-.58,1.4L9.25,21ZM18.45,9,17,7.55Zm-12,3A5.31,5.31,0,0,0,4.9,8.1,5.31,5.31,0,0,0,1,6.5,5.31,5.31,0,0,0,4.9,4.9,5.31,5.31,0,0,0,6.5,1,5.31,5.31,0,0,0,8.1,4.9,5.31,5.31,0,0,0,12,6.5,5.46,5.46,0,0,0,6.5,12Z\"/>\n",
              "  </svg>\n",
              "    </button>\n",
              "    <script>\n",
              "      (() => {\n",
              "      const buttonEl =\n",
              "        document.querySelector('#id_f8bd2734-a24c-4780-a32f-79f7333fd754 button.colab-df-generate');\n",
              "      buttonEl.style.display =\n",
              "        google.colab.kernel.accessAllowed ? 'block' : 'none';\n",
              "\n",
              "      buttonEl.onclick = () => {\n",
              "        google.colab.notebook.generateWithVariable('df');\n",
              "      }\n",
              "      })();\n",
              "    </script>\n",
              "  </div>\n",
              "\n",
              "    </div>\n",
              "  </div>\n"
            ],
            "application/vnd.google.colaboratory.intrinsic+json": {
              "type": "dataframe",
              "variable_name": "df"
            }
          },
          "metadata": {},
          "execution_count": 7
        }
      ],
      "source": [
        "# Normalize text first\n",
        "df['Country'] = df['Country'].str.strip().str.title()\n",
        "df['EdLevel'] = df['EdLevel'].str.strip().str.title()\n",
        "\n",
        "## Write your code here\n",
        "df['Country']\n",
        "    # Replace 'United States of America' with 'United States'\n",
        "df['Country'] = df['Country'].replace('United States of America', 'United States')\n",
        "\n",
        "    # Replace 'United Kingdom of Great Britain and Northern Ireland' with 'United Kingdom'\n",
        "df['Country'] = df['Country'].replace('United Kingdom of Great Britain and Northern Ireland', 'United Kingdom')\n",
        "\n",
        "    # Replace 'Russian Federation' with 'Russia'\n",
        "df['Country'] = df['Country'].replace('Russian Federation', 'Russia')\n",
        "\n",
        "    # Replace 'Viet Nam' with 'Vietnam'\n",
        "df['Country'] = df['Country'].replace('Viet Nam', 'Vietnam')\n",
        "\n",
        "    # Replace 'Republic of Korea' with 'South Korea'\n",
        "df['Country'] = df['Country'].replace('Republic of Korea', 'South Korea')\n",
        "\n",
        "    # Replace 'Iran, Islamic Republic of' with 'Iran'\n",
        "df['Country'] = df['Country'].replace('Iran, Islamic Republic of', 'Iran')\n",
        "\n",
        "    # Replace 'China, Hong Kong Special Administrative Region' with 'Hong Kong'\n",
        "df['Country'] = df['Country'].replace('China, Hong Kong Special Administrative Region', 'Hong Kong')\n",
        "\n",
        "    # Replace 'Macao, SAR China' with 'Macau'\n",
        "df['Country'] = df['Country'].replace('Macao, SAR China', 'Macau')\n",
        "\n",
        "    # Replace 'Republic of Moldova' with 'Moldova'\n",
        "df['Country'] = df['Country'].replace('Republic of Moldova', 'Moldova')\n",
        "\n",
        "df\n"
      ],
      "execution_count": 7
    },
    {
      "cell_type": "code",
      "source": [
        "# EDUCATION LEVEL MAPPING\n",
        "edlevel_map = {\n",
        "    \"Bachelor’S Degree\": \"Bachelor’s Degree\",\n",
        "    \"Master’S Degree\": \"Master’s Degree\",\n",
        "    \"Some College\": \"Some College\",\n",
        "    \"Secondary School\": \"Secondary School\",\n",
        "    \"Associate Degree\": \"Associate Degree\",\n",
        "    \"Professional Degree\": \"Professional Degree\",\n",
        "    \"Phd\": \"PhD\",\n",
        "    \"Doctoral Degree\": \"PhD\",\n",
        "    \"High School\": \"Secondary School\",\n",
        "    \"High School Diploma\": \"Secondary School\"\n",
        "    # Add more mappings based on unique values\n",
        "}\n",
        "\n",
        "df['EdLevel'] = df['EdLevel'].replace(edlevel_map)"
      ],
      "metadata": {
        "id": "QjZHPxFb6xjK"
      },
      "execution_count": 8,
      "outputs": []
    },
    {
      "cell_type": "code",
      "source": [
        "df['Country']"
      ],
      "metadata": {
        "id": "XUX2GJkl67vU",
        "outputId": "b60e2cd3-be0f-4b3a-89ee-5e7679c7d824",
        "colab": {
          "base_uri": "https://localhost:8080/",
          "height": 458
        }
      },
      "execution_count": 9,
      "outputs": [
        {
          "output_type": "execute_result",
          "data": {
            "text/plain": [
              "0                                 United States Of America\n",
              "1        United Kingdom Of Great Britain And Northern I...\n",
              "2        United Kingdom Of Great Britain And Northern I...\n",
              "3                                                   Canada\n",
              "4                                                   Norway\n",
              "                               ...                        \n",
              "65432                                                  NaN\n",
              "65433                                                  NaN\n",
              "65434                                                  NaN\n",
              "65435                                              Germany\n",
              "65436                                                  NaN\n",
              "Name: Country, Length: 65437, dtype: object"
            ],
            "text/html": [
              "<div>\n",
              "<style scoped>\n",
              "    .dataframe tbody tr th:only-of-type {\n",
              "        vertical-align: middle;\n",
              "    }\n",
              "\n",
              "    .dataframe tbody tr th {\n",
              "        vertical-align: top;\n",
              "    }\n",
              "\n",
              "    .dataframe thead th {\n",
              "        text-align: right;\n",
              "    }\n",
              "</style>\n",
              "<table border=\"1\" class=\"dataframe\">\n",
              "  <thead>\n",
              "    <tr style=\"text-align: right;\">\n",
              "      <th></th>\n",
              "      <th>Country</th>\n",
              "    </tr>\n",
              "  </thead>\n",
              "  <tbody>\n",
              "    <tr>\n",
              "      <th>0</th>\n",
              "      <td>United States Of America</td>\n",
              "    </tr>\n",
              "    <tr>\n",
              "      <th>1</th>\n",
              "      <td>United Kingdom Of Great Britain And Northern I...</td>\n",
              "    </tr>\n",
              "    <tr>\n",
              "      <th>2</th>\n",
              "      <td>United Kingdom Of Great Britain And Northern I...</td>\n",
              "    </tr>\n",
              "    <tr>\n",
              "      <th>3</th>\n",
              "      <td>Canada</td>\n",
              "    </tr>\n",
              "    <tr>\n",
              "      <th>4</th>\n",
              "      <td>Norway</td>\n",
              "    </tr>\n",
              "    <tr>\n",
              "      <th>...</th>\n",
              "      <td>...</td>\n",
              "    </tr>\n",
              "    <tr>\n",
              "      <th>65432</th>\n",
              "      <td>NaN</td>\n",
              "    </tr>\n",
              "    <tr>\n",
              "      <th>65433</th>\n",
              "      <td>NaN</td>\n",
              "    </tr>\n",
              "    <tr>\n",
              "      <th>65434</th>\n",
              "      <td>NaN</td>\n",
              "    </tr>\n",
              "    <tr>\n",
              "      <th>65435</th>\n",
              "      <td>Germany</td>\n",
              "    </tr>\n",
              "    <tr>\n",
              "      <th>65436</th>\n",
              "      <td>NaN</td>\n",
              "    </tr>\n",
              "  </tbody>\n",
              "</table>\n",
              "<p>65437 rows × 1 columns</p>\n",
              "</div><br><label><b>dtype:</b> object</label>"
            ]
          },
          "metadata": {},
          "execution_count": 9
        }
      ]
    },
    {
      "cell_type": "code",
      "source": [
        "df['EdLevel']"
      ],
      "metadata": {
        "id": "NTXUfmhC7K90",
        "outputId": "fad8f3b2-b620-44e9-b746-ea3ffbd39861",
        "colab": {
          "base_uri": "https://localhost:8080/",
          "height": 458
        }
      },
      "execution_count": 10,
      "outputs": [
        {
          "output_type": "execute_result",
          "data": {
            "text/plain": [
              "0                                Primary/Elementary School\n",
              "1             Bachelor’S Degree (B.A., B.S., B.Eng., Etc.)\n",
              "2          Master’S Degree (M.A., M.S., M.Eng., Mba, Etc.)\n",
              "3        Some College/University Study Without Earning ...\n",
              "4        Secondary School (E.G. American High School, G...\n",
              "                               ...                        \n",
              "65432         Bachelor’S Degree (B.A., B.S., B.Eng., Etc.)\n",
              "65433                                                  NaN\n",
              "65434         Bachelor’S Degree (B.A., B.S., B.Eng., Etc.)\n",
              "65435    Secondary School (E.G. American High School, G...\n",
              "65436                                                  NaN\n",
              "Name: EdLevel, Length: 65437, dtype: object"
            ],
            "text/html": [
              "<div>\n",
              "<style scoped>\n",
              "    .dataframe tbody tr th:only-of-type {\n",
              "        vertical-align: middle;\n",
              "    }\n",
              "\n",
              "    .dataframe tbody tr th {\n",
              "        vertical-align: top;\n",
              "    }\n",
              "\n",
              "    .dataframe thead th {\n",
              "        text-align: right;\n",
              "    }\n",
              "</style>\n",
              "<table border=\"1\" class=\"dataframe\">\n",
              "  <thead>\n",
              "    <tr style=\"text-align: right;\">\n",
              "      <th></th>\n",
              "      <th>EdLevel</th>\n",
              "    </tr>\n",
              "  </thead>\n",
              "  <tbody>\n",
              "    <tr>\n",
              "      <th>0</th>\n",
              "      <td>Primary/Elementary School</td>\n",
              "    </tr>\n",
              "    <tr>\n",
              "      <th>1</th>\n",
              "      <td>Bachelor’S Degree (B.A., B.S., B.Eng., Etc.)</td>\n",
              "    </tr>\n",
              "    <tr>\n",
              "      <th>2</th>\n",
              "      <td>Master’S Degree (M.A., M.S., M.Eng., Mba, Etc.)</td>\n",
              "    </tr>\n",
              "    <tr>\n",
              "      <th>3</th>\n",
              "      <td>Some College/University Study Without Earning ...</td>\n",
              "    </tr>\n",
              "    <tr>\n",
              "      <th>4</th>\n",
              "      <td>Secondary School (E.G. American High School, G...</td>\n",
              "    </tr>\n",
              "    <tr>\n",
              "      <th>...</th>\n",
              "      <td>...</td>\n",
              "    </tr>\n",
              "    <tr>\n",
              "      <th>65432</th>\n",
              "      <td>Bachelor’S Degree (B.A., B.S., B.Eng., Etc.)</td>\n",
              "    </tr>\n",
              "    <tr>\n",
              "      <th>65433</th>\n",
              "      <td>NaN</td>\n",
              "    </tr>\n",
              "    <tr>\n",
              "      <th>65434</th>\n",
              "      <td>Bachelor’S Degree (B.A., B.S., B.Eng., Etc.)</td>\n",
              "    </tr>\n",
              "    <tr>\n",
              "      <th>65435</th>\n",
              "      <td>Secondary School (E.G. American High School, G...</td>\n",
              "    </tr>\n",
              "    <tr>\n",
              "      <th>65436</th>\n",
              "      <td>NaN</td>\n",
              "    </tr>\n",
              "  </tbody>\n",
              "</table>\n",
              "<p>65437 rows × 1 columns</p>\n",
              "</div><br><label><b>dtype:</b> object</label>"
            ]
          },
          "metadata": {},
          "execution_count": 10
        }
      ]
    },
    {
      "cell_type": "markdown",
      "metadata": {
        "id": "f3f7396f-8152-454d-b0d6-ee70eaba540d"
      },
      "source": [
        "### 4. Encoding Categorical Variables\n"
      ]
    },
    {
      "cell_type": "markdown",
      "metadata": {
        "id": "0e675dd9-b427-4c7a-92c2-b711a8ebb6a0"
      },
      "source": [
        "<h5>4.1 Encode the Employment column using one-hot encoding.</h5>\n"
      ]
    },
    {
      "cell_type": "code",
      "metadata": {
        "id": "13bded1e-c766-46f0-9015-88228947549c"
      },
      "outputs": [],
      "source": [
        "## Write your code here\n",
        "# Apply one-hot encoding to the 'Employment' column\n",
        "employment_dummies = pd.get_dummies(df['Employment'], prefix='Employment')\n",
        "\n",
        "# Concatenate the new columns with the original dataframe\n",
        "df_encoded = pd.concat([df, employment_dummies], axis=1)\n",
        "\n",
        "# Optionally drop the original column\n",
        "df_encoded.drop('Employment', axis=1, inplace=True)"
      ],
      "execution_count": 11
    },
    {
      "cell_type": "markdown",
      "metadata": {
        "id": "fe0d75d2-209f-4c56-b14e-b2f8037e76d7"
      },
      "source": [
        "### 5. Handling Missing Values\n"
      ]
    },
    {
      "cell_type": "markdown",
      "metadata": {
        "id": "167edac3-f763-4689-89f9-c2b499fe6ceb"
      },
      "source": [
        "<h5>5.1 Identify columns with the highest number of missing values.</h5>\n"
      ]
    },
    {
      "cell_type": "code",
      "metadata": {
        "colab": {
          "base_uri": "https://localhost:8080/"
        },
        "id": "3b9b722d-ab02-4316-a64c-96fd10d57f09",
        "outputId": "06219383-f6f6-4fe8-a05c-635cc048d738"
      },
      "outputs": [
        {
          "output_type": "stream",
          "name": "stdout",
          "text": [
            "AINextMuch less integrated     True\n",
            "AINextLess integrated          True\n",
            "AINextNo change                True\n",
            "AINextMuch more integrated     True\n",
            "EmbeddedAdmired                True\n",
            "                              ...  \n",
            "MainBranch                    False\n",
            "Age                           False\n",
            "Employment                    False\n",
            "Check                         False\n",
            "ResponseId                    False\n",
            "Length: 114, dtype: bool\n"
          ]
        }
      ],
      "source": [
        "## Write your code here\n",
        "missing_col = df.isnull().sum().sort_values(ascending=False)\n",
        "print(missing_col > 0)"
      ],
      "execution_count": 19
    },
    {
      "cell_type": "code",
      "source": [
        "df['ConvertedCompYearly'].isnull().sum()"
      ],
      "metadata": {
        "id": "Ow3zwoGl8qRR",
        "outputId": "c2bdecd6-117c-4f41-bd4d-b3c73415a0fb",
        "colab": {
          "base_uri": "https://localhost:8080/"
        }
      },
      "execution_count": 21,
      "outputs": [
        {
          "output_type": "execute_result",
          "data": {
            "text/plain": [
              "np.int64(42002)"
            ]
          },
          "metadata": {},
          "execution_count": 21
        }
      ]
    },
    {
      "cell_type": "markdown",
      "metadata": {
        "id": "3494af17-d786-412c-8fa5-93007c842385"
      },
      "source": [
        "<h5>5.2 Impute missing values in numerical columns (e.g., `ConvertedCompYearly`) with the mean or median.</h5>\n"
      ]
    },
    {
      "cell_type": "code",
      "metadata": {
        "colab": {
          "base_uri": "https://localhost:8080/"
        },
        "id": "5b4dc8e5-d3d2-449d-ae4e-022bd8ee36e3",
        "outputId": "a14b3ee1-d321-4882-947d-42776b59072d"
      },
      "outputs": [
        {
          "output_type": "stream",
          "name": "stderr",
          "text": [
            "<ipython-input-22-a23266164cb0>:2: FutureWarning: A value is trying to be set on a copy of a DataFrame or Series through chained assignment using an inplace method.\n",
            "The behavior will change in pandas 3.0. This inplace method will never work because the intermediate object on which we are setting values always behaves as a copy.\n",
            "\n",
            "For example, when doing 'df[col].method(value, inplace=True)', try using 'df.method({col: value}, inplace=True)' or df[col] = df[col].method(value) instead, to perform the operation inplace on the original object.\n",
            "\n",
            "\n",
            "  df['ConvertedCompYearly'].fillna(df['ConvertedCompYearly'].mean(), inplace=True)\n"
          ]
        }
      ],
      "source": [
        "## Write your code here\n",
        "df['ConvertedCompYearly'].fillna(df['ConvertedCompYearly'].mean(), inplace=True)"
      ],
      "execution_count": 22
    },
    {
      "cell_type": "code",
      "source": [
        "df['ConvertedCompYearly'].isnull().sum()"
      ],
      "metadata": {
        "id": "XFAMak6E-Gu0",
        "outputId": "8682325d-39d2-4b87-bcf0-66a2baea3140",
        "colab": {
          "base_uri": "https://localhost:8080/"
        }
      },
      "execution_count": 23,
      "outputs": [
        {
          "output_type": "execute_result",
          "data": {
            "text/plain": [
              "np.int64(0)"
            ]
          },
          "metadata": {},
          "execution_count": 23
        }
      ]
    },
    {
      "cell_type": "markdown",
      "metadata": {
        "id": "b7aa6dd5-e442-4042-8e0b-7b047c5271c7"
      },
      "source": [
        "<h5>5.3 Impute missing values in categorical columns (e.g., `RemoteWork`) with the most frequent value.</h5>\n"
      ]
    },
    {
      "cell_type": "code",
      "metadata": {
        "colab": {
          "base_uri": "https://localhost:8080/"
        },
        "id": "3e8de2f3-b9f2-4b54-8545-cfab7573a4ce",
        "outputId": "188083c8-dce2-4e5a-e849-da80539e5fa2"
      },
      "outputs": [
        {
          "output_type": "stream",
          "name": "stderr",
          "text": [
            "<ipython-input-24-23b50630b6c6>:2: FutureWarning: A value is trying to be set on a copy of a DataFrame or Series through chained assignment using an inplace method.\n",
            "The behavior will change in pandas 3.0. This inplace method will never work because the intermediate object on which we are setting values always behaves as a copy.\n",
            "\n",
            "For example, when doing 'df[col].method(value, inplace=True)', try using 'df.method({col: value}, inplace=True)' or df[col] = df[col].method(value) instead, to perform the operation inplace on the original object.\n",
            "\n",
            "\n",
            "  df['RemoteWork'].fillna(df['RemoteWork'].mode()[0], inplace=True)\n"
          ]
        }
      ],
      "source": [
        "## Write your code here\n",
        "df['RemoteWork'].fillna(df['RemoteWork'].mode()[0], inplace=True)"
      ],
      "execution_count": 24
    },
    {
      "cell_type": "markdown",
      "metadata": {
        "id": "df590266-80ce-41e6-aec8-0e535b770629"
      },
      "source": [
        "### 6. Feature Scaling and Transformation\n"
      ]
    },
    {
      "cell_type": "markdown",
      "metadata": {
        "id": "11ac8b9d-3b1a-472f-b49a-d8d0299204dc"
      },
      "source": [
        "<h5>6.1 Apply Min-Max Scaling to normalize the `ConvertedCompYearly` column.</h5>\n"
      ]
    },
    {
      "cell_type": "code",
      "metadata": {
        "id": "241cb998-7b86-412a-b45c-9463c1bbf02a"
      },
      "outputs": [],
      "source": [
        "## Write your code here\n",
        "from sklearn.preprocessing import MinMaxScaler\n",
        "\n",
        "# Initialize the MinMaxScaler\n",
        "scaler = MinMaxScaler()\n",
        "\n",
        "# Fit and transform the 'ConvertedCompYearly' column\n",
        "df['ConvertedCompYearly'] = scaler.fit_transform(df[['ConvertedCompYearly']])\n",
        "\n"
      ],
      "execution_count": 25
    },
    {
      "cell_type": "markdown",
      "metadata": {
        "id": "e556a89e-8ab3-4eaa-9d75-ced79f89ed2c"
      },
      "source": [
        "<h5>6.2 Log-transform the ConvertedCompYearly column to reduce skewness.</h5>\n"
      ]
    },
    {
      "cell_type": "code",
      "metadata": {
        "id": "5523f80b-9bcd-4761-a6ad-4f4705687f7f"
      },
      "outputs": [],
      "source": [
        "## Write your code here\n",
        "import numpy as np\n",
        "\n",
        "# Log-transform the 'ConvertedCompYearly' column\n",
        "df['ConvertedCompYearly'] = np.log1p(df['ConvertedCompYearly'])\n",
        "\n"
      ],
      "execution_count": 26
    },
    {
      "cell_type": "markdown",
      "metadata": {
        "id": "5d04a76c-224c-4182-9f4c-ff0ed5bac396"
      },
      "source": [
        "### 7. Feature Engineering\n"
      ]
    },
    {
      "cell_type": "markdown",
      "metadata": {
        "id": "a7cd7cc2-4615-4c03-a2a9-ed6a30ef2556"
      },
      "source": [
        "<h5>7.1 Create a new column `ExperienceLevel` based on the `YearsCodePro` column:</h5>\n"
      ]
    },
    {
      "cell_type": "code",
      "metadata": {
        "colab": {
          "base_uri": "https://localhost:8080/"
        },
        "id": "036d111c-2aac-4f34-9995-5d9fc75b1053",
        "outputId": "4a769265-cdca-438d-9455-b4cef8eabf7f"
      },
      "outputs": [
        {
          "output_type": "stream",
          "name": "stdout",
          "text": [
            "   YearsCodePro ExperienceLevel\n",
            "0           NaN         Unknown\n",
            "1          17.0        Advanced\n",
            "2          27.0        Advanced\n",
            "3           NaN         Unknown\n",
            "4           NaN         Unknown\n"
          ]
        }
      ],
      "source": [
        "## Write your code here\n",
        "# Step 1: Clean YearsCodePro column\n",
        "def convert_years(x):\n",
        "    if pd.isnull(x):\n",
        "        return None\n",
        "    elif x == 'Less than 1 year':\n",
        "        return 0.5\n",
        "    elif x == 'More than 50 years':\n",
        "        return 51\n",
        "    else:\n",
        "        try:\n",
        "            return float(x)\n",
        "        except:\n",
        "            return None\n",
        "\n",
        "df['YearsCodePro'] = df['YearsCodePro'].apply(convert_years)\n",
        "\n",
        "# Step 2: Create ExperienceLevel based on YearsCodePro\n",
        "def categorize_experience(years):\n",
        "    if pd.isnull(years):\n",
        "        return 'Unknown'\n",
        "    elif years < 3:\n",
        "        return 'Beginner'\n",
        "    elif years < 8:\n",
        "        return 'Intermediate'\n",
        "    else:\n",
        "        return 'Advanced'\n",
        "\n",
        "df['ExperienceLevel'] = df['YearsCodePro'].apply(categorize_experience)\n",
        "\n",
        "# Preview the new column\n",
        "print(df[['YearsCodePro', 'ExperienceLevel']].head())"
      ],
      "execution_count": 27
    },
    {
      "cell_type": "markdown",
      "metadata": {
        "id": "9cb9db65-501b-4f0a-b514-5b77fe7172b1"
      },
      "source": [
        "### Summary\n"
      ]
    },
    {
      "cell_type": "markdown",
      "metadata": {
        "id": "10613a56-101f-4d4e-8d03-08bb7c5f54bc"
      },
      "source": [
        "In this lab, you:\n",
        "\n",
        "- Explored the dataset to identify inconsistencies and missing values.\n",
        "\n",
        "- Encoded categorical variables for analysis.\n",
        "\n",
        "- Handled missing values using imputation techniques.\n",
        "\n",
        "- Normalized and transformed numerical data to prepare it for analysis.\n",
        "\n",
        "- Engineered a new feature to enhance data interpretation.\n"
      ]
    },
    {
      "cell_type": "markdown",
      "metadata": {
        "id": "d65b9608-d5e2-4b31-a8ce-09231fafce5f"
      },
      "source": [
        "Copyright © IBM Corporation. All rights reserved.\n"
      ]
    }
  ],
  "metadata": {
    "kernelspec": {
      "display_name": "Python 3 (ipykernel)",
      "language": "python",
      "name": "python3"
    },
    "language_info": {
      "codemirror_mode": {
        "name": "ipython",
        "version": 3
      },
      "file_extension": ".py",
      "mimetype": "text/x-python",
      "name": "python",
      "nbconvert_exporter": "python",
      "pygments_lexer": "ipython3",
      "version": "3.11.9"
    },
    "prev_pub_hash": "1e8e234f19fd098e27b0518a87f18de690e1c51f1d3263d5690927d19971251e",
    "colab": {
      "provenance": []
    }
  },
  "nbformat": 4,
  "nbformat_minor": 0
}